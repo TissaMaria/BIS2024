{
  "nbformat": 4,
  "nbformat_minor": 0,
  "metadata": {
    "colab": {
      "provenance": [],
      "authorship_tag": "ABX9TyMDoL6CwXW7k6/UZfoE3w98",
      "include_colab_link": true
    },
    "kernelspec": {
      "name": "python3",
      "display_name": "Python 3"
    },
    "language_info": {
      "name": "python"
    }
  },
  "cells": [
    {
      "cell_type": "markdown",
      "metadata": {
        "id": "view-in-github",
        "colab_type": "text"
      },
      "source": [
        "<a href=\"https://colab.research.google.com/github/TissaMaria/BIS2024/blob/main/GeaBIS.ipynb\" target=\"_parent\"><img src=\"https://colab.research.google.com/assets/colab-badge.svg\" alt=\"Open In Colab\"/></a>"
      ]
    },
    {
      "cell_type": "code",
      "execution_count": null,
      "metadata": {
        "colab": {
          "base_uri": "https://localhost:8080/"
        },
        "id": "eeMxgnPvEnuJ",
        "outputId": "f3d35ec3-b1da-403f-bbb4-facd23fba4a7"
      },
      "outputs": [
        {
          "output_type": "stream",
          "name": "stdout",
          "text": [
            "Best Solution (Selected Items): [0 1 1 0 1 1 1 1 0 1]\n",
            "Best Fitness (Total Value): 482\n",
            "Total Weight: 50\n",
            "Knapsack Weights: [12  2 13 10  3  6  3  9 12 14]\n",
            "Knapsack Values: [27 42 83 73 70 69 72 57 61 89]\n"
          ]
        }
      ],
      "source": [
        "import numpy as np\n",
        "#Knapsack\n",
        "# Define the problem\n",
        "def knapsack_fitness(genetic_sequence, weights, values, max_weight):\n",
        "    \"\"\"Calculate fitness of a genetic sequence for the knapsack problem.\"\"\"\n",
        "    total_weight = np.dot(genetic_sequence, weights)\n",
        "    total_value = np.dot(genetic_sequence, values)\n",
        "\n",
        "    # Penalize sequences exceeding max weight\n",
        "    if total_weight > max_weight:\n",
        "        return 0  # Invalid solution\n",
        "    return total_value\n",
        "\n",
        "# Initialize parameters\n",
        "population_size = 100\n",
        "num_genes = 10  # Number of items\n",
        "mutation_rate = 0.1\n",
        "crossover_rate = 0.8\n",
        "num_generations = 200\n",
        "weights = np.random.randint(1, 15, num_genes)  # Random weights of items\n",
        "values = np.random.randint(10, 100, num_genes)  # Random values of items\n",
        "max_weight = 50  # Maximum capacity of the knapsack\n",
        "\n",
        "# Step 3: Initialize Population\n",
        "population = np.random.randint(0, 2, (population_size, num_genes))\n",
        "\n",
        "# Evaluate fitness\n",
        "def evaluate_fitness(population):\n",
        "    \"\"\"Evaluate fitness for the entire population.\"\"\"\n",
        "    return [knapsack_fitness(individual, weights, values, max_weight) for individual in population]\n",
        "\n",
        "# Selection (Roulette Wheel)\n",
        "def selection(population, fitness):\n",
        "    \"\"\"Select parents based on fitness using roulette wheel selection.\"\"\"\n",
        "    total_fitness = sum(fitness)\n",
        "    probabilities = [f / total_fitness if total_fitness > 0 else 1 / len(fitness) for f in fitness]\n",
        "    selected_indices = np.random.choice(len(population), size=2, p=probabilities)\n",
        "    return population[selected_indices[0]], population[selected_indices[1]]\n",
        "\n",
        "# Crossover\n",
        "def crossover(parent1, parent2):\n",
        "    \"\"\"Perform single-point crossover.\"\"\"\n",
        "    if np.random.rand() < crossover_rate:\n",
        "        point = np.random.randint(1, len(parent1) - 1)\n",
        "        child1 = np.concatenate((parent1[:point], parent2[point:]))\n",
        "        child2 = np.concatenate((parent2[:point], parent1[point:]))\n",
        "        return child1, child2\n",
        "    return parent1.copy(), parent2.copy()\n",
        "\n",
        "# Mutation\n",
        "def mutate(genetic_sequence):\n",
        "    \"\"\"Apply mutation by flipping bits.\"\"\"\n",
        "    for i in range(len(genetic_sequence)):\n",
        "        if np.random.rand() < mutation_rate:\n",
        "            genetic_sequence[i] = 1 - genetic_sequence[i]  # Flip bit\n",
        "    return genetic_sequence\n",
        "\n",
        "# Gene Expression Algorithm\n",
        "best_solution = None\n",
        "best_fitness = 0\n",
        "\n",
        "for generation in range(num_generations):\n",
        "    # Step 4: Evaluate fitness\n",
        "    fitness = evaluate_fitness(population)\n",
        "\n",
        "    # Track the best solution\n",
        "    max_fitness_idx = np.argmax(fitness)\n",
        "    if fitness[max_fitness_idx] > best_fitness:\n",
        "        best_fitness = fitness[max_fitness_idx]\n",
        "        best_solution = population[max_fitness_idx].copy()\n",
        "\n",
        "    # Step 5-7: Selection, Crossover, and Mutation\n",
        "    new_population = []\n",
        "    for _ in range(population_size // 2):\n",
        "        parent1, parent2 = selection(population, fitness)\n",
        "        child1, child2 = crossover(parent1, parent2)\n",
        "        new_population.append(mutate(child1))\n",
        "        new_population.append(mutate(child2))\n",
        "\n",
        "    # Update population\n",
        "    population = np.array(new_population)\n",
        "\n",
        "# Output the best solution\n",
        "print(\"Best Solution (Selected Items):\", best_solution)\n",
        "print(\"Best Fitness (Total Value):\", best_fitness)\n",
        "print(\"Total Weight:\", np.dot(best_solution, weights))\n",
        "print(\"Knapsack Weights:\", weights)\n",
        "print(\"Knapsack Values:\", values)\n"
      ]
    }
  ]
}